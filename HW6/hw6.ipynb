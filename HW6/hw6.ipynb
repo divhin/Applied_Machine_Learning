{
 "cells": [
  {
   "cell_type": "code",
   "execution_count": 2,
   "metadata": {
    "collapsed": true
   },
   "outputs": [],
   "source": [
    "from sklearn import datasets\n",
    "from keras.wrappers.scikit_learn import KerasClassifier\n",
    "from sklearn.model_selection import GridSearchCV\n",
    "from keras.models import Sequential\n",
    "from keras.layers import Dense, Dropout, Flatten\n",
    "from keras.layers import Conv2D, MaxPooling2D\n",
    "from keras.layers import BatchNormalization\n",
    "import keras\n",
    "import scipy\n",
    "import numpy as np\n",
    "import matplotlib.pyplot as plt\n",
    "import pandas as pd\n",
    "import tensorflow as tf\n",
    "sess = tf.Session(config=tf.ConfigProto(log_device_placement=True))"
   ]
  },
  {
   "cell_type": "code",
   "execution_count": 3,
   "metadata": {},
   "outputs": [
    {
     "name": "stdout",
     "output_type": "stream",
     "text": [
      "[name: \"/device:CPU:0\"\n",
      "device_type: \"CPU\"\n",
      "memory_limit: 268435456\n",
      "locality {\n",
      "}\n",
      "incarnation: 1329515698687220713\n",
      ", name: \"/device:GPU:0\"\n",
      "device_type: \"GPU\"\n",
      "memory_limit: 11270160384\n",
      "locality {\n",
      "  bus_id: 1\n",
      "  links {\n",
      "  }\n",
      "}\n",
      "incarnation: 3428942921048410643\n",
      "physical_device_desc: \"device: 0, name: Tesla K80, pci bus id: 0000:00:04.0, compute capability: 3.7\"\n",
      "]\n"
     ]
    }
   ],
   "source": [
    "from tensorflow.python.client import device_lib\n",
    "print(device_lib.list_local_devices())"
   ]
  },
  {
   "cell_type": "code",
   "execution_count": 4,
   "metadata": {},
   "outputs": [
    {
     "data": {
      "text/plain": [
       "['/job:localhost/replica:0/task:0/device:GPU:0']"
      ]
     },
     "execution_count": 4,
     "metadata": {},
     "output_type": "execute_result"
    }
   ],
   "source": [
    "from keras import backend as K\n",
    "K.tensorflow_backend._get_available_gpus()"
   ]
  },
  {
   "cell_type": "code",
   "execution_count": 5,
   "metadata": {
    "collapsed": true
   },
   "outputs": [],
   "source": [
    "test_data = scipy.io.loadmat('test_32x32.mat')\n",
    "train_data = scipy.io.loadmat('train_32x32.mat')"
   ]
  },
  {
   "cell_type": "code",
   "execution_count": 6,
   "metadata": {
    "collapsed": true
   },
   "outputs": [],
   "source": [
    "X_train = train_data['X'].T\n",
    "X_test = test_data['X'].T\n",
    "y_train = train_data['y']\n",
    "y_test = test_data['y']"
   ]
  },
  {
   "cell_type": "code",
   "execution_count": 7,
   "metadata": {
    "collapsed": true
   },
   "outputs": [],
   "source": [
    "y_test[y_test == 10] = 0\n",
    "y_train[y_train == 10] = 0"
   ]
  },
  {
   "cell_type": "code",
   "execution_count": 8,
   "metadata": {
    "collapsed": true
   },
   "outputs": [],
   "source": [
    "batch_size = 128\n",
    "num_classes = 10\n",
    "epochs = 1\n",
    "input_shape = train_data['X'].shape[:3]"
   ]
  },
  {
   "cell_type": "code",
   "execution_count": 9,
   "metadata": {
    "collapsed": true
   },
   "outputs": [],
   "source": [
    "X_train = X_train.reshape(X_train.shape[0], input_shape[0], input_shape[1], input_shape[2])\n",
    "X_test = X_test.reshape(X_test.shape[0], input_shape[0], input_shape[1], input_shape[2])\n",
    "y_train = keras.utils.to_categorical(y_train, num_classes)\n",
    "y_test = keras.utils.to_categorical(y_test, num_classes)"
   ]
  },
  {
   "cell_type": "code",
   "execution_count": 28,
   "metadata": {
    "collapsed": true
   },
   "outputs": [],
   "source": [
    "conv_l1 = 48\n",
    "conv_l2 = 64\n",
    "conv_l3 = 128\n",
    "conv_l4 = 160\n",
    "dense_l1 = 2400\n",
    "dense_l2 = 2400\n",
    "dropout = 0.3"
   ]
  },
  {
   "cell_type": "code",
   "execution_count": 29,
   "metadata": {
    "collapsed": true
   },
   "outputs": [],
   "source": [
    "model = Sequential()\n",
    "model.add(Conv2D(conv_l1, kernel_size=(3,3), input_shape = input_shape, activation=\"relu\",padding='same'))\n",
    "model.add(BatchNormalization())\n",
    "model.add(Dropout(dropout))\n",
    "model.add(MaxPooling2D(pool_size=(2,2)))\n",
    "model.add(Conv2D(conv_l2, kernel_size=(3,3), activation=\"relu\",padding='same'))\n",
    "model.add(BatchNormalization())\n",
    "model.add(Dropout(dropout))\n",
    "model.add(MaxPooling2D(pool_size=(2,2)))\n",
    "model.add(Conv2D(conv_l3, kernel_size=(3,3), activation=\"relu\",padding='same'))\n",
    "model.add(BatchNormalization())\n",
    "model.add(Dropout(dropout))\n",
    "model.add(MaxPooling2D(pool_size=(2,2)))\n",
    "model.add(Conv2D(conv_l4, kernel_size=(3,3), activation=\"relu\",padding='same'))\n",
    "model.add(BatchNormalization())\n",
    "model.add(Dropout(dropout))\n",
    "model.add(MaxPooling2D(pool_size=(2,2)))\n",
    "model.add(Flatten())\n",
    "model.add(Dense(dense_l1, activation='relu'))\n",
    "model.add(Dropout(dropout))\n",
    "model.add(Dense(dense_l2, activation='relu'))\n",
    "model.add(Dense(num_classes, activation='softmax'))\n",
    "\n",
    "model.compile(\"adam\", \"categorical_crossentropy\", metrics=[\"accuracy\"])"
   ]
  },
  {
   "cell_type": "code",
   "execution_count": null,
   "metadata": {},
   "outputs": [
    {
     "name": "stdout",
     "output_type": "stream",
     "text": [
      "Train on 65931 samples, validate on 7326 samples\n",
      "Epoch 1/20\n",
      "65931/65931 [==============================] - 31s 471us/step - loss: 1.8500 - acc: 0.3658 - val_loss: 6.8017 - val_acc: 0.1960\n",
      "Epoch 2/20\n",
      "65931/65931 [==============================] - 28s 427us/step - loss: 0.9223 - acc: 0.6967 - val_loss: 1.0370 - val_acc: 0.7228\n",
      "Epoch 3/20\n",
      "65931/65931 [==============================] - 28s 427us/step - loss: 0.6639 - acc: 0.7884 - val_loss: 1.3993 - val_acc: 0.7172\n",
      "Epoch 4/20\n",
      "65931/65931 [==============================] - 28s 426us/step - loss: 0.5778 - acc: 0.8165 - val_loss: 0.6992 - val_acc: 0.8206\n",
      "Epoch 5/20\n",
      "65931/65931 [==============================] - 28s 425us/step - loss: 0.5309 - acc: 0.8350 - val_loss: 1.0150 - val_acc: 0.7824\n",
      "Epoch 6/20\n",
      "65931/65931 [==============================] - 28s 427us/step - loss: 0.4975 - acc: 0.8431 - val_loss: 0.5223 - val_acc: 0.8434\n",
      "Epoch 7/20\n",
      "65931/65931 [==============================] - 28s 427us/step - loss: 0.4756 - acc: 0.8500 - val_loss: 0.4922 - val_acc: 0.8617\n",
      "Epoch 8/20\n",
      "65931/65931 [==============================] - 28s 429us/step - loss: 0.4557 - acc: 0.8579 - val_loss: 0.5287 - val_acc: 0.8619\n",
      "Epoch 9/20\n",
      "65931/65931 [==============================] - 28s 427us/step - loss: 0.4360 - acc: 0.8633 - val_loss: 0.7474 - val_acc: 0.8403\n",
      "Epoch 10/20\n",
      "65931/65931 [==============================] - 28s 427us/step - loss: 0.4241 - acc: 0.8667 - val_loss: 0.5695 - val_acc: 0.8658\n",
      "Epoch 11/20\n",
      "65931/65931 [==============================] - 28s 429us/step - loss: 0.4152 - acc: 0.8698 - val_loss: 0.7117 - val_acc: 0.8493\n",
      "Epoch 12/20\n",
      "65931/65931 [==============================] - 28s 427us/step - loss: 0.4032 - acc: 0.8732 - val_loss: 0.8130 - val_acc: 0.8176\n",
      "Epoch 13/20\n",
      "65931/65931 [==============================] - 28s 428us/step - loss: 0.3970 - acc: 0.8776 - val_loss: 0.4117 - val_acc: 0.8785\n",
      "Epoch 14/20\n",
      "65931/65931 [==============================] - 28s 426us/step - loss: 0.3880 - acc: 0.8781 - val_loss: 0.6063 - val_acc: 0.8605\n",
      "Epoch 15/20\n",
      "65931/65931 [==============================] - 28s 427us/step - loss: 0.3737 - acc: 0.8825 - val_loss: 0.4942 - val_acc: 0.8810\n",
      "Epoch 16/20\n",
      "65931/65931 [==============================] - 28s 427us/step - loss: 0.3698 - acc: 0.8847 - val_loss: 0.4381 - val_acc: 0.8941\n",
      "Epoch 17/20\n",
      "65931/65931 [==============================] - 28s 427us/step - loss: 0.3641 - acc: 0.8870 - val_loss: 0.7056 - val_acc: 0.8467\n",
      "Epoch 18/20\n",
      "65920/65931 [============================>.] - ETA: 0s - loss: 0.3565 - acc: 0.8892"
     ]
    }
   ],
   "source": [
    "model_hist = model.fit(X_train,\n",
    "                       y_train,\n",
    "                       batch_size=128,\n",
    "                       epochs=20,\n",
    "                       verbose=1,\n",
    "                       validation_split = .1)"
   ]
  },
  {
   "cell_type": "code",
   "execution_count": 25,
   "metadata": {},
   "outputs": [
    {
     "name": "stdout",
     "output_type": "stream",
     "text": [
      "26032/26032 [==============================] - 4s 163us/step\n"
     ]
    },
    {
     "data": {
      "text/plain": [
       "[0.41116579795243663, 0.895820528580209]"
      ]
     },
     "execution_count": 25,
     "metadata": {},
     "output_type": "execute_result"
    }
   ],
   "source": [
    "model.evaluate(X_test, y_test)"
   ]
  },
  {
   "cell_type": "code",
   "execution_count": 26,
   "metadata": {},
   "outputs": [
    {
     "data": {
      "image/png": "[encoded data removed]",
      "text/plain": [
       "<Figure size 432x288 with 1 Axes>"
      ]
     },
     "metadata": {},
     "output_type": "display_data"
    }
   ],
   "source": [
    "pd.DataFrame(model_hist.history)[['acc','val_acc']].plot()\n",
    "plt.show()"
   ]
  },
  {
   "cell_type": "code",
   "execution_count": 27,
   "metadata": {},
   "outputs": [
    {
     "data": {
      "image/png": "[encoded data removed]",
      "text/plain": [
       "<Figure size 432x288 with 1 Axes>"
      ]
     },
     "metadata": {},
     "output_type": "display_data"
    }
   ],
   "source": [
    "pd.DataFrame(model_hist.history)[['loss','val_loss']].plot()\n",
    "plt.show()"
   ]
  },
  {
   "cell_type": "code",
   "execution_count": null,
   "metadata": {
    "collapsed": true
   },
   "outputs": [],
   "source": []
  }
 ],
 "metadata": {
  "kernelspec": {
   "display_name": "Python 3",
   "language": "python",
   "name": "python3"
  },
  "language_info": {
   "codemirror_mode": {
    "name": "ipython",
    "version": 3
   },
   "file_extension": ".py",
   "mimetype": "text/x-python",
   "name": "python",
   "nbconvert_exporter": "python",
   "pygments_lexer": "ipython3",
   "version": "3.6.3"
  }
 },
 "nbformat": 4,
 "nbformat_minor": 2
}
