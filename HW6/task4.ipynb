{
 "cells": [
  {
   "cell_type": "code",
   "execution_count": 18,
   "metadata": {},
   "outputs": [],
   "source": [
    "from keras import applications\n",
    "from keras.preprocessing import image\n",
    "from keras.applications.vgg16 import preprocess_input\n",
    "from keras.preprocessing.image import ImageDataGenerator, array_to_img, img_to_array, load_img\n",
    "\n",
    "from keras.models import Sequential\n",
    "from keras.layers import Conv2D, MaxPooling2D\n",
    "from keras.layers import Activation, Dropout, Flatten, Dense\n",
    "from keras import backend as K\n",
    "\n",
    "import keras\n",
    "import os\n",
    "from IPython.display import display\n",
    "import PIL\n",
    "from PIL import Image\n",
    "from PIL.Image import core as _imaging\n",
    "import numpy as np\n",
    "from sklearn.linear_model import LogisticRegressionCV\n",
    "from sklearn.metrics import confusion_matrix\n",
    "\n",
    "from keras.applications.inception_v3 import preprocess_input\n",
    "from keras.applications.vgg16 import preprocess_input as preprocess_input_vgg\n",
    "import tensorflow as tf\n",
    "sess =tf.Session(config=tf.ConfigProto(log_device_placement=True))"
   ]
  },
  {
   "cell_type": "code",
   "execution_count": 7,
   "metadata": {},
   "outputs": [],
   "source": [
    "images_dataset_dir = \"images\"\n",
    "ground_truth_dir = \"annotations\"\n",
    "test_file = open('annotations/test.txt')\n",
    "test_names_list = test_file.readlines()\n",
    "train_file = open('annotations/trainval.txt')\n",
    "train_names_list = train_file.readlines()\n",
    "\n",
    "test_class_labels = [ name.split()[1] for name in test_names_list]\n",
    "test_class_names = [ name.split()[0] for name in test_names_list]\n",
    "test_name_label_dict = dict(zip(test_class_names,test_class_labels))\n",
    "\n",
    "train_class_labels = [ name.split()[1] for name in train_names_list]\n",
    "train_class_names = [ name.split()[0] for name in train_names_list]\n",
    "train_name_label_dict = dict(zip(train_class_names,train_class_labels))"
   ]
  },
  {
   "cell_type": "code",
   "execution_count": 24,
   "metadata": {},
   "outputs": [],
   "source": [
    "test_class_labels = np.array(test_class_labels).astype(int)\n",
    "num_classes = np.unique(test_class_labels).shape[0]"
   ]
  },
  {
   "cell_type": "code",
   "execution_count": 58,
   "metadata": {
    "collapsed": true
   },
   "outputs": [
    {
     "name": "stdout",
     "output_type": "stream",
     "text": [
      ".mat error for file:  Abyssinian_100.mat\n",
      ".mat error for file:  Abyssinian_101.mat\n",
      ".mat error for file:  Abyssinian_102.mat\n",
      "Breed not found. Invalid image: Abyssinian_34.jpg Abyssinian_34\n",
      "Breed not found. Invalid image: Abyssinian_82.jpg Abyssinian_82\n",
      "Breed not found. Invalid image: Bombay_11.jpg Bombay_11\n",
      "Breed not found. Invalid image: Bombay_189.jpg Bombay_189\n",
      "Breed not found. Invalid image: Bombay_190.jpg Bombay_190\n",
      "Breed not found. Invalid image: Bombay_192.jpg Bombay_192\n",
      "Breed not found. Invalid image: Bombay_203.jpg Bombay_203\n",
      "Breed not found. Invalid image: Bombay_206.jpg Bombay_206\n",
      "Breed not found. Invalid image: Bombay_209.jpg Bombay_209\n",
      "Breed not found. Invalid image: Bombay_210.jpg Bombay_210\n",
      "Breed not found. Invalid image: Bombay_217.jpg Bombay_217\n",
      "Breed not found. Invalid image: Bombay_22.jpg Bombay_22\n",
      "Breed not found. Invalid image: Bombay_220.jpg Bombay_220\n",
      "Breed not found. Invalid image: Bombay_32.jpg Bombay_32\n",
      "Breed not found. Invalid image: Bombay_69.jpg Bombay_69\n",
      "Breed not found. Invalid image: Bombay_85.jpg Bombay_85\n",
      "Breed not found. Invalid image: Bombay_92.jpg Bombay_92\n",
      "Breed not found. Invalid image: Bombay_99.jpg Bombay_99\n",
      "Breed not found. Invalid image: Egyptian_Mau_129.jpg Egyptian_Mau_129\n",
      "Breed not found. Invalid image: Egyptian_Mau_139.jpg Egyptian_Mau_139\n",
      "Breed not found. Invalid image: Egyptian_Mau_145.jpg Egyptian_Mau_145\n",
      "Breed not found. Invalid image: Egyptian_Mau_167.jpg Egyptian_Mau_167\n",
      "Breed not found. Invalid image: Egyptian_Mau_177.jpg Egyptian_Mau_177\n",
      "Breed not found. Invalid image: Egyptian_Mau_183.jpg Egyptian_Mau_183\n",
      "Breed not found. Invalid image: Egyptian_Mau_191.jpg Egyptian_Mau_191\n",
      "Breed not found. Invalid image: Egyptian_Mau_202.jpg Egyptian_Mau_202\n",
      "Breed not found. Invalid image: Egyptian_Mau_41.jpg Egyptian_Mau_41\n",
      "Breed not found. Invalid image: Egyptian_Mau_71.jpg Egyptian_Mau_71\n",
      "Breed not found. Invalid image: Siamese_203.jpg Siamese_203\n",
      "Breed not found. Invalid image: boxer_82.jpg boxer_82\n",
      "Breed not found. Invalid image: english_cocker_spaniel_162.jpg english_cocker_spaniel_162\n",
      "Breed not found. Invalid image: english_cocker_spaniel_163.jpg english_cocker_spaniel_163\n",
      "Breed not found. Invalid image: english_cocker_spaniel_164.jpg english_cocker_spaniel_164\n",
      "Breed not found. Invalid image: english_cocker_spaniel_179.jpg english_cocker_spaniel_179\n",
      "Breed not found. Invalid image: keeshond_59.jpg keeshond_59\n",
      "Breed not found. Invalid image: newfoundland_152.jpg newfoundland_152\n",
      "Breed not found. Invalid image: newfoundland_153.jpg newfoundland_153\n",
      "Breed not found. Invalid image: newfoundland_154.jpg newfoundland_154\n",
      "Breed not found. Invalid image: newfoundland_155.jpg newfoundland_155\n",
      "Breed not found. Invalid image: staffordshire_bull_terrier_2.jpg staffordshire_bull_terrier_2\n",
      "Breed not found. Invalid image: staffordshire_bull_terrier_22.jpg staffordshire_bull_terrier_22\n"
     ]
    }
   ],
   "source": [
    "img_rows, img_cols = 150,150\n",
    "\n",
    "train_labels = []\n",
    "train_data = []\n",
    "test_data = []\n",
    "test_labels =[]\n",
    "\n",
    "for imageName in sorted(os.listdir(\"images\")):\n",
    "    if (\".mat\" in imageName):\n",
    "        print(\".mat error for file: \",imageName)\n",
    "        continue\n",
    "    img = load_img(\"images/\"+str(imageName),False,target_size=(img_rows,img_cols,3),interpolation='nearest')\n",
    "    x = img_to_array(img)\n",
    "    breed_name = imageName[:-4]\n",
    "    \n",
    "    if breed_name in train_class_names:\n",
    "        train_data.append(x)\n",
    "        train_labels.append(train_name_label_dict[breed_name])\n",
    "        \n",
    "    elif breed_name in test_class_names:\n",
    "        test_data.append(x)\n",
    "        test_labels.append(test_name_label_dict[breed_name])\n",
    "    else:\n",
    "        print(\"Breed not found. Invalid image:\", imageName, breed_name)"
   ]
  },
  {
   "cell_type": "code",
   "execution_count": 59,
   "metadata": {},
   "outputs": [],
   "source": [
    "train_labels_np = np.array(train_labels)\n",
    "test_labels_np = np.array(test_labels)\n",
    "train_data_np = np.array(train_data)\n",
    "test_data_np = np.array(test_data)"
   ]
  },
  {
   "cell_type": "code",
   "execution_count": 60,
   "metadata": {},
   "outputs": [],
   "source": [
    "model_vgg16 = applications.VGG16(include_top=False, weights='imagenet')\n",
    "\n",
    "model_inc = applications.inception_v3.InceptionV3(include_top=False,\n",
    "                                                  weights='imagenet',\n",
    "                                                  input_tensor=None,\n",
    "                                                  input_shape=(150,150,3),\n",
    "                                                  pooling=None, classes=1000)"
   ]
  },
  {
   "cell_type": "code",
   "execution_count": 61,
   "metadata": {},
   "outputs": [],
   "source": [
    "#train_pre = preprocess_input_vgg(train_data_np)\n",
    "train_inc = preprocess_input(train_data_np)\n",
    "test_inc = preprocess_input(test_data_np)\n",
    "#test_pre = preprocess_input_vgg(test_data_np)\n",
    "\n",
    "feat_train_inc = model_inc.predict(train_inc)\n",
    "X_train = feat_train_inc.reshape(feat_train_inc.shape[0], -1)\n",
    "y_train = np.array(train_labels_np,copy=True)\n",
    "\n",
    "feat_test_inc = model_inc.predict(test_inc)\n",
    "X_test = feat_test_inc.reshape(feat_test_inc.shape[0], -1)\n",
    "y_test = np.array(test_labels_np,copy = True)"
   ]
  },
  {
   "cell_type": "code",
   "execution_count": 62,
   "metadata": {},
   "outputs": [],
   "source": [
    "y_train = y_train.astype(int)\n",
    "y_test = y_test.astype(int)\n",
    "y_train[y_train == 37] = 0\n",
    "y_test[y_test == 37] = 0"
   ]
  },
  {
   "cell_type": "code",
   "execution_count": 92,
   "metadata": {},
   "outputs": [
    {
     "name": "stdout",
     "output_type": "stream",
     "text": [
      "1.0\n",
      "0.7972199509403107\n"
     ]
    },
    {
     "data": {
      "text/plain": [
       "array([[89,  0,  0, ...,  0,  1,  1],\n",
       "       [ 0, 65,  1, ...,  3,  0,  0],\n",
       "       [ 0,  0, 73, ...,  0,  3,  0],\n",
       "       ...,\n",
       "       [ 1,  4,  1, ..., 84,  0,  0],\n",
       "       [ 0,  1,  8, ...,  0, 46,  0],\n",
       "       [ 0,  0,  0, ...,  0,  0, 88]])"
      ]
     },
     "execution_count": 92,
     "metadata": {},
     "output_type": "execute_result"
    }
   ],
   "source": [
    "from sklearn.svm import LinearSVC\n",
    "logit = LinearSVC().fit(X_train, y_train)\n",
    "print(logit.score(X_train, y_train))\n",
    "print(logit.score(X_test, y_test))\n",
    "confusion_matrix(y_test, logit.predict(X_test))"
   ]
  },
  {
   "cell_type": "code",
   "execution_count": null,
   "metadata": {},
   "outputs": [],
   "source": []
  }
 ],
 "metadata": {
  "kernelspec": {
   "display_name": "py36",
   "language": "python",
   "name": "py36"
  },
  "language_info": {
   "codemirror_mode": {
    "name": "ipython",
    "version": 3
   },
   "file_extension": ".py",
   "mimetype": "text/x-python",
   "name": "python",
   "nbconvert_exporter": "python",
   "pygments_lexer": "ipython3",
   "version": "3.6.4"
  }
 },
 "nbformat": 4,
 "nbformat_minor": 2
}
